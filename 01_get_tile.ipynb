{
 "cells": [
  {
   "cell_type": "code",
   "execution_count": null,
   "id": "e231ee9b-4698-4333-a03e-4f1d9b720445",
   "metadata": {},
   "outputs": [],
   "source": [
    "import subprocess\n",
    "import glob\n",
    "from tqdm import tqdm\n",
    "from tile_operator.operate import TileOperate, file_to_bounds"
   ]
  },
  {
   "cell_type": "code",
   "execution_count": null,
   "id": "6f80d143-1b28-464c-be75-40b000319bb5",
   "metadata": {},
   "outputs": [],
   "source": [
    "# https://geojson.io/ でgeojsonを作成\n",
    "file_path = \"./wajima.geojson\"\n",
    "bbox = file_to_bounds(file_path).bounds()\n",
    "print(bbox)\n",
    "\n",
    "to = TileOperate(\n",
    "    bbox=bbox,\n",
    "    zoom_level=18,\n",
    ")\n",
    "\n",
    "to.set_tile_list()\n",
    "tile_list = to.get_tile_list()\n",
    "print(len(tile_list))"
   ]
  },
  {
   "cell_type": "markdown",
   "id": "7cbd89b6-f1a2-4659-ab99-89c86f19f6be",
   "metadata": {},
   "source": [
    "# 地図タイルを取得し、一枚の画像を作成\n",
    "\n",
    "全国最新写真（シームレス）\n",
    "URL：https://cyberjapandata.gsi.go.jp/xyz/seamlessphoto/{z}/{x}/{y}.jpg\n",
    "\n",
    "令和6年能登半島地震 輪島東地区　正射画像（2024年1月2日撮影）\n",
    "URL：https://cyberjapandata.gsi.go.jp/xyz/20240102noto_wazimahigashi_0102do/{z}/{x}/{y}.png"
   ]
  },
  {
   "cell_type": "code",
   "execution_count": null,
   "id": "b41c99d3-d100-4d88-ac20-8e286d459f2a",
   "metadata": {},
   "outputs": [],
   "source": [
    "# 災害前と災害後のタイル\n",
    "tile_list = [(\"seamlessphoto\", \"jpg\")\n",
    "             , (\"20240102noto_wazimanaka_0102do\", \"png\")]"
   ]
  },
  {
   "cell_type": "code",
   "execution_count": null,
   "id": "8621212f-d53b-4301-9d77-2e1d683a2661",
   "metadata": {},
   "outputs": [],
   "source": [
    "for tile_name, tile_format in tile_list:\n",
    "    tile_url = f\"https://cyberjapandata.gsi.go.jp/xyz/{tile_name}\" + \"/{z}/{x}/{y}.\" + tile_format\n",
    "    print(tile_url)\n",
    "\n",
    "    # 地図タイルを取得\n",
    "    for tile in tqdm(to.tile_list):        \n",
    "        to.download_tile(tile_url, tile[0], tile[1], output=f\"./{tile_name}\")\n",
    "        tile_path = f\"./{tile_name}/18/{tile[0]}/{tile[1]}.{tile_format}\"\n",
    "        to.tile_to_geotiff(tile_path) # 地図タイルをgeotiffへ変換\n",
    "    \n",
    "    files = []\n",
    "    for y_name in tqdm(glob.glob(f\"./{tile_name}/18/*\")):\n",
    "        files = files + glob.glob(f\"{y_name}/*.tif\")\n",
    "\n",
    "    # gdal_mergeで各geotiff画像を一枚のgeotiff画像にする\n",
    "    command = [\"gdal_merge.py\", \"-o\", f\"./{tile_name}_18.tif\", \"-co\", \"BIGTIFF=YES\"] + files\n",
    "    print(command)\n",
    "    subprocess.run(command)"
   ]
  },
  {
   "cell_type": "code",
   "execution_count": null,
   "id": "f95870a8-fcf4-45b9-b524-1f586126cb08",
   "metadata": {},
   "outputs": [],
   "source": []
  }
 ],
 "metadata": {
  "kernelspec": {
   "display_name": "Python 3 (ipykernel)",
   "language": "python",
   "name": "python3"
  },
  "language_info": {
   "codemirror_mode": {
    "name": "ipython",
    "version": 3
   },
   "file_extension": ".py",
   "mimetype": "text/x-python",
   "name": "python",
   "nbconvert_exporter": "python",
   "pygments_lexer": "ipython3",
   "version": "3.11.7"
  }
 },
 "nbformat": 4,
 "nbformat_minor": 5
}
