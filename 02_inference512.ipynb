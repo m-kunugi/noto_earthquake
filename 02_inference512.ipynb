{
 "cells": [
  {
   "cell_type": "code",
   "execution_count": null,
   "id": "08addb82-9bdd-46c3-bb5f-8adce767808d",
   "metadata": {},
   "outputs": [],
   "source": [
    "import subprocess\n",
    "import glob\n",
    "from tqdm import tqdm\n",
    "from tile_operator.operate import TileOperate, file_to_bounds"
   ]
  },
  {
   "cell_type": "code",
   "execution_count": null,
   "id": "1d63c81a-0d86-48a0-8e62-87b9980072f2",
   "metadata": {},
   "outputs": [],
   "source": [
    "file_path = \"./wajima.geojson\"\n",
    "bbox = file_to_bounds(file_path).bounds()\n",
    "print(bbox)\n",
    "\n",
    "to = TileOperate(\n",
    "    bbox=bbox,\n",
    "    zoom_level=18,\n",
    ")"
   ]
  },
  {
   "cell_type": "code",
   "execution_count": null,
   "id": "fa86e4e4-9fe5-4b99-ab85-714b80ee9188",
   "metadata": {},
   "outputs": [],
   "source": [
    "from PIL import Image\n",
    "\n",
    "# 画像サイズを半分にする関数\n",
    "def half_size_img(img_file):\n",
    "    # リサイズ前の画像を読み込み\n",
    "    img = Image.open(img_file)\n",
    "    # 読み込んだ画像の幅、高さを取得し半分に\n",
    "    (width, height) = (img.width // 2, img.height // 2)\n",
    "    # 画像をリサイズする\n",
    "    img_resized = img.resize((width, height))\n",
    "    # ファイルを保存\n",
    "    img_file_resize = f\".{img_file.split('.')[1]}.png\"\n",
    "    img_resized.save(img_file_resize)\n",
    "\n",
    "    return img_file_resize"
   ]
  },
  {
   "cell_type": "markdown",
   "id": "b8b34183-b5e5-4e64-bc02-e1fb8f4e8b8d",
   "metadata": {},
   "source": [
    "# 学習済みモデルを使って、建物の場所を着色\n",
    "\n",
    "国土地理院（2023）：CNNによる地物抽出のための深層学習済モデル，国土地理院技術資料 H1-No.36．\n",
    "https://gisstar.gsi.go.jp/gsi-dataset/99/index.html\n",
    "\n",
    "全国最新写真（シームレス）\n",
    "URL：https://cyberjapandata.gsi.go.jp/xyz/seamlessphoto/{z}/{x}/{y}.jpg\n",
    "\n",
    "令和6年能登半島地震 輪島東地区　正射画像（2024年1月2日撮影）\n",
    "URL：https://cyberjapandata.gsi.go.jp/xyz/20240102noto_wazimahigashi_0102do/{z}/{x}/{y}.png"
   ]
  },
  {
   "cell_type": "code",
   "execution_count": null,
   "id": "c536de7e-1e7b-4035-8f6d-0a5d73aee098",
   "metadata": {},
   "outputs": [],
   "source": [
    "tile_list = [(\"seamlessphoto\", \"jpg\")\n",
    "             , (\"20240102noto_wazimanaka_0102do\", \"png\")]"
   ]
  },
  {
   "cell_type": "code",
   "execution_count": null,
   "id": "e61f363b-0898-4bef-8383-62cd4bd5c7d1",
   "metadata": {},
   "outputs": [],
   "source": [
    "for tile_name, tile_format in tile_list:\n",
    "    print(tile_name)\n",
    "    files = []\n",
    "    for y_name in tqdm(glob.glob(f\"./{tile_name}/18/*\")):\n",
    "        # 学習済みモデルを用いた推論部分\n",
    "        output_dir = f\"./{tile_name}_bld/18/{y_name.split('/')[-1]}/\"\n",
    "        command = [\"python3\", \"./inference512.py\"\n",
    "                   , \"--input_dir\", f\"{y_name}/\"\n",
    "                   , \"--output_dir\", output_dir\n",
    "                   , \"--model\", \"./model-09/\" # 今回は普通建物のモデル\n",
    "                   , \"--ngf\", \"64\"\n",
    "                   , \"--output_filetype\", \"png\"]\n",
    "        subprocess.run(command)\n",
    "\n",
    "        for y_name_2 in tqdm(glob.glob(f\"{output_dir}*.png\")):\n",
    "            y_name_3 = half_size_img(y_name_2) # 地図タイルが512×512になっているので256×256へ変更\n",
    "            to.tile_to_geotiff(y_name_3) # 地図タイルをgeotiffへ変換\n",
    "        \n",
    "        files = files + glob.glob(f\"{output_dir}/*.tif\")\n",
    "    \n",
    "    command = [\"gdal_merge.py\", \"-o\", f\"./{tile_name}_bld.tif\", \"-co\", \"BIGTIFF=YES\"] + files\n",
    "    print(command)\n",
    "    subprocess.run(command)"
   ]
  },
  {
   "cell_type": "code",
   "execution_count": null,
   "id": "9d1f0be2-d029-4a8c-ba9c-dfc1651227fc",
   "metadata": {},
   "outputs": [],
   "source": [
    "# 画像を横結合\n",
    "import cv2\n",
    "im1 = cv2.imread(f'{tile_list[0][0]}_bld.tif') # 災害前\n",
    "im2 = cv2.imread(f'{tile_list[1][0]}_bld.tif') # 災害後\n",
    "\n",
    "im_h = cv2.hconcat([im1, im2])\n",
    "cv2.imwrite('./before_after.jpg', im_h)"
   ]
  },
  {
   "cell_type": "code",
   "execution_count": null,
   "id": "cd9397c9-50b3-47e5-a3ff-5721997fde8c",
   "metadata": {},
   "outputs": [],
   "source": []
  }
 ],
 "metadata": {
  "kernelspec": {
   "display_name": "Python 3 (ipykernel)",
   "language": "python",
   "name": "python3"
  },
  "language_info": {
   "codemirror_mode": {
    "name": "ipython",
    "version": 3
   },
   "file_extension": ".py",
   "mimetype": "text/x-python",
   "name": "python",
   "nbconvert_exporter": "python",
   "pygments_lexer": "ipython3",
   "version": "3.11.7"
  }
 },
 "nbformat": 4,
 "nbformat_minor": 5
}
